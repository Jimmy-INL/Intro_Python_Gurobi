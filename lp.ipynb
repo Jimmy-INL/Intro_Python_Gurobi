{
 "cells": [
  {
   "cell_type": "markdown",
   "metadata": {},
   "source": [
    "# Linear Programming Formulation\n",
    "\n",
    "First, you will learn how to solve the following Linear Program using Gurobi Python interface.\n",
    "\n",
    "$$\n",
    "   \\begin{aligned}\n",
    "   \\text{Min} \\,\\, 10x + 26y & \\\\\n",
    "   11x + 3y  & \\ge 21 \\\\\n",
    "   6x + 20y  & \\ge 39 \\\\\n",
    "   x \\ge 0 ,& y \\ge 0\n",
    "   \\end{aligned}\n",
    "$$"
   ]
  },
  {
   "cell_type": "markdown",
   "metadata": {},
   "source": [
    "The following should be the first line of any of your python + gurobi programs. This is to ensure that the program can access the gurobi functions and classes."
   ]
  },
  {
   "cell_type": "code",
   "execution_count": 1,
   "metadata": {
    "collapsed": true
   },
   "outputs": [],
   "source": [
    "from gurobipy import *"
   ]
  },
  {
   "cell_type": "markdown",
   "metadata": {},
   "source": [
    "Next we create a new gurobi model and name it lp. Note that you can change the name of the model ls as well as name of the gurobi object which in this case is m."
   ]
  },
  {
   "cell_type": "code",
   "execution_count": 2,
   "metadata": {
    "collapsed": true
   },
   "outputs": [],
   "source": [
    "# Create a new Gurobi Model\n",
    "m = Model(\"lp\")  "
   ]
  },
  {
   "cell_type": "markdown",
   "metadata": {},
   "source": [
    "Next we create two positive variables $x$ and $y$ and add it to the model."
   ]
  },
  {
   "cell_type": "code",
   "execution_count": 3,
   "metadata": {
    "collapsed": true
   },
   "outputs": [],
   "source": [
    "# Create two new variables\n",
    "x = m.addVar(lb=0, name =\"x\")\n",
    "y = m.addVar(lb=0, name =\"y\")"
   ]
  },
  {
   "cell_type": "markdown",
   "metadata": {},
   "source": [
    "We then add the objective function to the model. The objective function in this case is minimize. If you wanted to maximize, you would set the objective function parameter to GRB.MAXIMIZE."
   ]
  },
  {
   "cell_type": "code",
   "execution_count": 4,
   "metadata": {
    "collapsed": true
   },
   "outputs": [],
   "source": [
    "# Set the objective function\n",
    "m.setObjective(10*x + 26*y, GRB.MINIMIZE)"
   ]
  },
  {
   "cell_type": "markdown",
   "metadata": {},
   "source": [
    "We then add two constraints named c0 and c1. The earlier versions of gurobi have a m.update() command which is not needed in version 7."
   ]
  },
  {
   "cell_type": "code",
   "execution_count": 5,
   "metadata": {
    "collapsed": false
   },
   "outputs": [
    {
     "data": {
      "text/plain": [
       "<gurobi.Constr *Awaiting Model Update*>"
      ]
     },
     "execution_count": 5,
     "metadata": {},
     "output_type": "execute_result"
    }
   ],
   "source": [
    "#Add Constraints\n",
    "m.addConstr(11*x + 3*y >= 21, \"c0\")\n",
    "m.addConstr(6*x + 20*y >= 39, \"c1\")"
   ]
  },
  {
   "cell_type": "markdown",
   "metadata": {},
   "source": [
    "Next we solve the model."
   ]
  },
  {
   "cell_type": "code",
   "execution_count": 6,
   "metadata": {
    "collapsed": false
   },
   "outputs": [
    {
     "name": "stdout",
     "output_type": "stream",
     "text": [
      "Optimize a model with 2 rows, 2 columns and 4 nonzeros\n",
      "Coefficient statistics:\n",
      "  Matrix range     [3e+00, 2e+01]\n",
      "  Objective range  [1e+01, 3e+01]\n",
      "  Bounds range     [0e+00, 0e+00]\n",
      "  RHS range        [2e+01, 4e+01]\n",
      "Presolve time: 0.01s\n",
      "Presolved: 2 rows, 2 columns, 4 nonzeros\n",
      "\n",
      "Iteration    Objective       Primal Inf.    Dual Inf.      Time\n",
      "       0    0.0000000e+00   2.531250e+00   0.000000e+00      0s\n",
      "       2    5.4000000e+01   0.000000e+00   0.000000e+00      0s\n",
      "\n",
      "Solved in 2 iterations and 0.02 seconds\n",
      "Optimal objective  5.400000000e+01\n"
     ]
    }
   ],
   "source": [
    "# Solve the model\n",
    "m.optimize()"
   ]
  },
  {
   "cell_type": "markdown",
   "metadata": {},
   "source": [
    "If the model was solved to optimality, we print the objective function and optimal solution. We show two ways to access the optimal solution below."
   ]
  },
  {
   "cell_type": "code",
   "execution_count": 7,
   "metadata": {
    "collapsed": false
   },
   "outputs": [
    {
     "name": "stdout",
     "output_type": "stream",
     "text": [
      "Obj Function: 54.0\n",
      "x 1.5\n",
      "y 1.5\n",
      "Optimal Solution:\n",
      "x 1.5\n",
      "y 1.5\n"
     ]
    }
   ],
   "source": [
    "if m.status == GRB.Status.OPTIMAL:\n",
    "    print('Obj Function:', m.objVal)\n",
    "    for v in m.getVars():\n",
    "        print(v.varName, v.x)\n",
    "# Another way to print the variable\n",
    "    print(\"Optimal Solution:\")\n",
    "    print(x.varName, x.x)\n",
    "    print(y.varName, y.x)        \n",
    "else:\n",
    "    print(m.status)"
   ]
  }
 ],
 "metadata": {
  "anaconda-cloud": {},
  "kernelspec": {
   "display_name": "Python [conda root]",
   "language": "python",
   "name": "conda-root-py"
  },
  "language_info": {
   "codemirror_mode": {
    "name": "ipython",
    "version": 3
   },
   "file_extension": ".py",
   "mimetype": "text/x-python",
   "name": "python",
   "nbconvert_exporter": "python",
   "pygments_lexer": "ipython3",
   "version": "3.5.2"
  }
 },
 "nbformat": 4,
 "nbformat_minor": 1
}
