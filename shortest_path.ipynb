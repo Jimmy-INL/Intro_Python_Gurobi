{
 "cells": [
  {
   "cell_type": "markdown",
   "metadata": {},
   "source": [
    "# Shortest Path\n",
    "\n",
    "The following code solves the shortest path problem as a linear program. Obviously this is a very inefficient way to solve the shortest path. But the following code demonstrates how can use tuplelist and dictionaries in python + gurobi.\n",
    "\n",
    "The code uses the following input file: [AhujaNet.txt](https://github.com/avinashu1980/Intro_Python_Gurobi/blob/master/AhujaNet.txt). Make sure the input file is in the same folder as the notebook."
   ]
  },
  {
   "cell_type": "code",
   "execution_count": 1,
   "metadata": {
    "collapsed": true
   },
   "outputs": [],
   "source": [
    "from gurobipy import *\n",
    "import matplotlib.pyplot as plt\n",
    "import networkx as nx"
   ]
  },
  {
   "cell_type": "markdown",
   "metadata": {},
   "source": [
    "The following lines are for reading the input file and intializing the parameters. Note that links is a tuplelist. For more on tuplelists, refer to gurobi quick start guide."
   ]
  },
  {
   "cell_type": "code",
   "execution_count": 2,
   "metadata": {
    "collapsed": false
   },
   "outputs": [],
   "source": [
    "f = open(\"AhujaNet.txt\", \"r\")\n",
    "line = f.readline()\n",
    "line = line.strip('\\n')\n",
    "data = line.split(':')\n",
    "num_nodes = int(data[1])\n",
    "line = f.readline()\n",
    "line = line.strip('\\n')\n",
    "data = line.split(':')\n",
    "num_arcs = int(data[1])\n",
    "line = f.readline()\n",
    "line = line.strip('\\n')\n",
    "data = line.split(':')\n",
    "origin = int(data[1])\n",
    "line = f.readline()\n",
    "line = line.strip('\\n')\n",
    "data = line.split(':')\n",
    "destination = int(data[1])\n",
    "line = f.readline()\n",
    "line = f.readline()\n",
    "\n",
    "links = tuplelist()\n",
    "cost  = {}\n",
    "while(len(line)):\n",
    "    line = line.strip('\\n')\n",
    "    data = line.split()\n",
    "    from_node = int(data[0])\n",
    "    to_node = int(data[1])\n",
    "    cost_arc = float(data[2])\n",
    "    links.append((from_node,to_node))\n",
    "    cost[from_node, to_node] = cost_arc\n",
    "    line = f.readline()\n",
    "f.close() "
   ]
  },
  {
   "cell_type": "markdown",
   "metadata": {},
   "source": [
    "Notice that the variable addition step has become very compact compared to previous examples."
   ]
  },
  {
   "cell_type": "code",
   "execution_count": 3,
   "metadata": {
    "collapsed": true
   },
   "outputs": [],
   "source": [
    "m = Model('SP')\n",
    "x = m.addVars(links, obj=cost, name =\"flow\")"
   ]
  },
  {
   "cell_type": "markdown",
   "metadata": {},
   "source": [
    "Same with the constraints. The following is the flow balance constraint which ensures the path structure."
   ]
  },
  {
   "cell_type": "code",
   "execution_count": 4,
   "metadata": {
    "collapsed": false
   },
   "outputs": [
    {
     "name": "stdout",
     "output_type": "stream",
     "text": [
      "Optimize a model with 6 rows, 9 columns and 18 nonzeros\n",
      "Coefficient statistics:\n",
      "  Matrix range     [1e+00, 1e+00]\n",
      "  Objective range  [1e+00, 4e+00]\n",
      "  Bounds range     [0e+00, 0e+00]\n",
      "  RHS range        [1e+00, 1e+00]\n",
      "Presolve removed 3 rows and 3 columns\n",
      "Presolve time: 0.00s\n",
      "Presolved: 3 rows, 6 columns, 12 nonzeros\n",
      "\n",
      "Iteration    Objective       Primal Inf.    Dual Inf.      Time\n",
      "       0    6.0000000e+00   0.000000e+00   0.000000e+00      0s\n",
      "       0    6.0000000e+00   0.000000e+00   0.000000e+00      0s\n",
      "\n",
      "Solved in 0 iterations and 0.01 seconds\n",
      "Optimal objective  6.000000000e+00\n"
     ]
    }
   ],
   "source": [
    "for i in range(1, num_nodes+1):\n",
    "    m.addConstr( sum(x[i,j] for i,j in links.select(i, '*')) - sum(x[j,i] for j,i in links.select('*',i)) == \n",
    "                     (1 if i==origin else -1 if i==destination else 0 ),'node%s_' % i )\n",
    "\n",
    "m.optimize() "
   ]
  },
  {
   "cell_type": "markdown",
   "metadata": {},
   "source": [
    "The optimal solution is printed if found."
   ]
  },
  {
   "cell_type": "code",
   "execution_count": 5,
   "metadata": {
    "collapsed": false
   },
   "outputs": [
    {
     "name": "stdout",
     "output_type": "stream",
     "text": [
      "The final solution is:\n",
      "1 2 1.0\n",
      "2 5 1.0\n",
      "5 6 1.0\n"
     ]
    }
   ],
   "source": [
    "if m.status == GRB.Status.OPTIMAL:\n",
    "   print('The final solution is:')\n",
    "   for i,j in links:\n",
    "       if(x[i,j].x > 0):\n",
    "           print(i, j, x[i,j].x)"
   ]
  },
  {
   "cell_type": "markdown",
   "metadata": {},
   "source": [
    "The following set of code is used to visualize the final solution."
   ]
  },
  {
   "cell_type": "code",
   "execution_count": 6,
   "metadata": {
    "collapsed": false
   },
   "outputs": [
    {
     "data": {
      "image/png": "[encoded data removed]",
      "text/plain": [
       "<matplotlib.figure.Figure at 0x7ecbc18>"
      ]
     },
     "metadata": {},
     "output_type": "display_data"
    }
   ],
   "source": [
    "G=nx.DiGraph()\n",
    "list_nodes = list(range(1, num_nodes+1))\n",
    "G.add_nodes_from(list_nodes)\n",
    "for i,j in links:\n",
    "    G.add_edge(i,j)\n",
    "\n",
    "# Adding the position attribute to each node\n",
    "node_pos = {1: (0, 0), 2: (2, 2), 3: (2, -2), 4: (5, 2), 5: (5, -2), 6: (7, 0)}\n",
    "\n",
    "# Create a list of edges in shortest path\n",
    "red_edges = [(i,j) for i,j in links if x[i,j].x > 0]\n",
    "\n",
    "#Create a list of nodes in shortest path\n",
    "sp = [ i for i,j in links if x[i,j].x > 0 ]\n",
    "sp.append(destination)\n",
    "\n",
    "# If the node is in the shortest path, set it to red, else set it to white color\n",
    "node_col = ['white' if not node in sp else 'red' for node in G.nodes()]\n",
    "# If the edge is in the shortest path set it to red, else set it to white color\n",
    "edge_col = ['black' if not edge in red_edges else 'red' for edge in G.edges()]\n",
    "# Draw the nodes\n",
    "nx.draw_networkx(G,node_pos, node_color= node_col, node_size=450)\n",
    "# Draw the node labels\n",
    "# nx.draw_networkx_labels(G1, node_pos,node_color= node_col)\n",
    "# Draw the edges\n",
    "nx.draw_networkx_edges(G, node_pos,edge_color= edge_col)\n",
    "# Draw the edge labels\n",
    "nx.draw_networkx_edge_labels(G, node_pos,edge_color= edge_col, edge_labels=cost)\n",
    "# Remove the axis\n",
    "plt.axis('off')\n",
    "\n",
    "# Show the plot\n",
    "plt.show()"
   ]
  }
 ],
 "metadata": {
  "anaconda-cloud": {},
  "kernelspec": {
   "display_name": "Python [conda root]",
   "language": "python",
   "name": "conda-root-py"
  },
  "language_info": {
   "codemirror_mode": {
    "name": "ipython",
    "version": 3
   },
   "file_extension": ".py",
   "mimetype": "text/x-python",
   "name": "python",
   "nbconvert_exporter": "python",
   "pygments_lexer": "ipython3",
   "version": "3.5.2"
  }
 },
 "nbformat": 4,
 "nbformat_minor": 1
}
