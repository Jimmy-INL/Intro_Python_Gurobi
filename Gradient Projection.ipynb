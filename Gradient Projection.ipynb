{
 "cells": [
  {
   "cell_type": "markdown",
   "metadata": {},
   "source": [
    "# Projected Gradient\n",
    "\n",
    "In this notebook, we are going to use projected gradient to solve the following optimization problem.\n",
    "\n",
    "\n",
    "$$\\begin{align}\n",
    "  \\min  \\quad   2(x_1 - 1)^2 &+ (x_2 - 2)^2   \\\\\n",
    "  \\mathrm{s.t.} \\quad   x_1 + 4x_2 - 2 &\\le 0   \\\\\n",
    "                \\quad   -x_1 + x_2 &\\le 0  \\\\\n",
    "                \\quad   x_1, x_2 &\\ge 0\n",
    "  \\end{align} $$\n",
    "    \n",
    "    \n",
    "\n",
    "\n"
   ]
  },
  {
   "cell_type": "markdown",
   "metadata": {},
   "source": [
    "### Iteration 1"
   ]
  },
  {
   "cell_type": "code",
   "execution_count": 1,
   "metadata": {
    "collapsed": true
   },
   "outputs": [],
   "source": [
    "import numpy as np\n",
    "from numpy.linalg import inv\n",
    "from scipy.optimize import minimize_scalar\n"
   ]
  },
  {
   "cell_type": "code",
   "execution_count": 2,
   "metadata": {
    "collapsed": false
   },
   "outputs": [],
   "source": [
    "x1 = 0\n",
    "x2 = 0\n",
    "g1 = 4*(x1 - 1)\n",
    "g2 = 2*(x2 - 2)\n",
    "gradF = np.array([g1,g2])"
   ]
  },
  {
   "cell_type": "markdown",
   "metadata": {},
   "source": [
    "Note that we have constraints -x1 + x2 <= 0, x1 >= 0, x2 >= 0.  \n",
    "\n",
    "We only use -x1 + x2 <= 0 and x2 >= 0 as it automatically implies x1 >= 0. If we use all three, then we cannot invert the matrix."
   ]
  },
  {
   "cell_type": "code",
   "execution_count": 3,
   "metadata": {
    "collapsed": false
   },
   "outputs": [
    {
     "name": "stdout",
     "output_type": "stream",
     "text": [
      "[[ 0.  0.]\n",
      " [ 0.  0.]]\n"
     ]
    }
   ],
   "source": [
    "E = np.array([[-1,1],[0,-1]])\n",
    "I = np.identity(2)\n",
    "ET = np.transpose(E)\n",
    "P = I - np.dot(np.dot(ET,inv(np.dot(E,ET))),E)\n",
    "print(P)\n"
   ]
  },
  {
   "cell_type": "code",
   "execution_count": 4,
   "metadata": {
    "collapsed": false
   },
   "outputs": [
    {
     "name": "stdout",
     "output_type": "stream",
     "text": [
      "[-0. -0.]\n"
     ]
    }
   ],
   "source": [
    "d = -np.dot(P, gradF)\n",
    "print(d)"
   ]
  },
  {
   "cell_type": "markdown",
   "metadata": {},
   "source": [
    "Since d=0, we calculate Q. "
   ]
  },
  {
   "cell_type": "code",
   "execution_count": 5,
   "metadata": {
    "collapsed": false,
    "scrolled": true
   },
   "outputs": [
    {
     "name": "stdout",
     "output_type": "stream",
     "text": [
      "[-4. -8.]\n"
     ]
    }
   ],
   "source": [
    "Q = -np.dot(np.dot(inv(np.dot(E,ET)),E),gradF)\n",
    "print(Q)"
   ]
  },
  {
   "cell_type": "markdown",
   "metadata": {},
   "source": [
    "Since the second row is the most negative, we delete the second row of the matrix E."
   ]
  },
  {
   "cell_type": "code",
   "execution_count": 6,
   "metadata": {
    "collapsed": false
   },
   "outputs": [
    {
     "name": "stdout",
     "output_type": "stream",
     "text": [
      "[[ 0.5  0.5]\n",
      " [ 0.5  0.5]]\n"
     ]
    }
   ],
   "source": [
    "E = np.array([[-1,1]])\n",
    "I = np.identity(2)\n",
    "ET = np.transpose(E)\n",
    "P = I - np.dot(np.dot(ET,inv(np.dot(E,ET))),E)\n",
    "print(P)"
   ]
  },
  {
   "cell_type": "code",
   "execution_count": 7,
   "metadata": {
    "collapsed": false
   },
   "outputs": [
    {
     "name": "stdout",
     "output_type": "stream",
     "text": [
      "[ 4.  4.]\n"
     ]
    }
   ],
   "source": [
    "d = -np.dot(P, gradF)\n",
    "print(d)"
   ]
  },
  {
   "cell_type": "markdown",
   "metadata": {},
   "source": [
    "x1 = 0 + lam*4  \n",
    "\n",
    "x2 = 0 + lam*4  \n",
    "\n",
    "lam <= 2/20"
   ]
  },
  {
   "cell_type": "code",
   "execution_count": 8,
   "metadata": {
    "collapsed": false
   },
   "outputs": [
    {
     "name": "stdout",
     "output_type": "stream",
     "text": [
      "0.0999933893039\n"
     ]
    }
   ],
   "source": [
    "def fun(l):\n",
    "    return 2*(0 + 4*l - 1)**2 + (0 + 4*l - 2)**2\n",
    "\n",
    "lam = minimize_scalar(fun, bounds=(0, 0.1), method='bounded') \n",
    "print(lam.x)\n",
    "\n"
   ]
  },
  {
   "cell_type": "code",
   "execution_count": 9,
   "metadata": {
    "collapsed": false
   },
   "outputs": [
    {
     "name": "stdout",
     "output_type": "stream",
     "text": [
      "x1=  0.399973557215\n",
      "x2=  0.399973557215\n"
     ]
    }
   ],
   "source": [
    "x1 = 0 + 4*lam.x\n",
    "x2 = 0 + 4*lam.x\n",
    "\n",
    "print(\"x1= \", x1)\n",
    "print(\"x2= \", x2)"
   ]
  },
  {
   "cell_type": "markdown",
   "metadata": {},
   "source": [
    "## Iteration 2"
   ]
  },
  {
   "cell_type": "code",
   "execution_count": 10,
   "metadata": {
    "collapsed": true
   },
   "outputs": [],
   "source": [
    "x1 = 0.4\n",
    "x2 = 0.4\n",
    "g1 = 4*(x1 - 1)\n",
    "g2 = 2*(x2 - 2)\n",
    "gradF = np.array([g1,g2])"
   ]
  },
  {
   "cell_type": "code",
   "execution_count": 11,
   "metadata": {
    "collapsed": false
   },
   "outputs": [
    {
     "name": "stdout",
     "output_type": "stream",
     "text": [
      "[[  1.11022302e-16   1.11022302e-16]\n",
      " [  0.00000000e+00   2.22044605e-16]]\n"
     ]
    }
   ],
   "source": [
    "E = np.array([[1,4],[-1,1]])\n",
    "I = np.identity(2)\n",
    "ET = np.transpose(E)\n",
    "P = I - np.dot(np.dot(ET,inv(np.dot(E,ET))),E)\n",
    "print(P)"
   ]
  },
  {
   "cell_type": "code",
   "execution_count": 12,
   "metadata": {
    "collapsed": false
   },
   "outputs": [
    {
     "name": "stdout",
     "output_type": "stream",
     "text": [
      "[  6.21724894e-16   7.10542736e-16]\n"
     ]
    }
   ],
   "source": [
    "d = -np.dot(P, gradF)\n",
    "print(d)"
   ]
  },
  {
   "cell_type": "code",
   "execution_count": 13,
   "metadata": {
    "collapsed": false
   },
   "outputs": [
    {
     "name": "stdout",
     "output_type": "stream",
     "text": [
      "[ 1.12 -1.28]\n"
     ]
    }
   ],
   "source": [
    "Q = -np.dot(np.dot(inv(np.dot(E,ET)),E),gradF)\n",
    "print(Q)"
   ]
  },
  {
   "cell_type": "markdown",
   "metadata": {},
   "source": [
    "Since the second row has negative values, delete the second row from the E matrix."
   ]
  },
  {
   "cell_type": "code",
   "execution_count": 14,
   "metadata": {
    "collapsed": false
   },
   "outputs": [
    {
     "name": "stdout",
     "output_type": "stream",
     "text": [
      "[[ 0.94117647 -0.23529412]\n",
      " [-0.23529412  0.05882353]]\n"
     ]
    }
   ],
   "source": [
    "E = np.array([[1,4]])\n",
    "I = np.identity(2)\n",
    "ET = np.transpose(E)\n",
    "P = I - np.dot(np.dot(ET,inv(np.dot(E,ET))),E)\n",
    "print(P)"
   ]
  },
  {
   "cell_type": "code",
   "execution_count": 15,
   "metadata": {
    "collapsed": false
   },
   "outputs": [
    {
     "name": "stdout",
     "output_type": "stream",
     "text": [
      "[ 1.50588235 -0.37647059]\n"
     ]
    }
   ],
   "source": [
    "d = -np.dot(P, gradF)\n",
    "print(d)"
   ]
  },
  {
   "cell_type": "code",
   "execution_count": 16,
   "metadata": {
    "collapsed": false
   },
   "outputs": [
    {
     "name": "stdout",
     "output_type": "stream",
     "text": [
      "0.257669168234\n"
     ]
    }
   ],
   "source": [
    "def fun(l):\n",
    "    return 2*(0.4 + 1.505*l - 1)**2 + (0.4 - 0.3764*l - 2)**2\n",
    "\n",
    "lam = minimize_scalar(fun, bounds=(0, 1.0627), method='bounded') \n",
    "print(lam.x)"
   ]
  },
  {
   "cell_type": "code",
   "execution_count": 17,
   "metadata": {
    "collapsed": false
   },
   "outputs": [
    {
     "name": "stdout",
     "output_type": "stream",
     "text": [
      "x1=  0.787792098192\n",
      "x2=  0.303013325077\n"
     ]
    }
   ],
   "source": [
    "x1 = 0.4 + 1.505*lam.x\n",
    "x2 = 0.4 - 0.3764*lam.x\n",
    "\n",
    "print(\"x1= \", x1)\n",
    "print(\"x2= \", x2)"
   ]
  }
 ],
 "metadata": {
  "anaconda-cloud": {},
  "kernelspec": {
   "display_name": "Python [conda root]",
   "language": "python",
   "name": "conda-root-py"
  },
  "language_info": {
   "codemirror_mode": {
    "name": "ipython",
    "version": 3
   },
   "file_extension": ".py",
   "mimetype": "text/x-python",
   "name": "python",
   "nbconvert_exporter": "python",
   "pygments_lexer": "ipython3",
   "version": "3.5.2"
  }
 },
 "nbformat": 4,
 "nbformat_minor": 1
}
