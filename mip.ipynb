{
 "cells": [
  {
   "cell_type": "markdown",
   "metadata": {},
   "source": [
    "# Linear Programming Formulation\n",
    "\n",
    "First, you will learn how to solve the following Linear Program using Gurobi Python interface.\n",
    "\n",
    "$$\n",
    "   \\begin{aligned}\n",
    "   \\text{Min} \\,\\, 10x + 26y & \\\\\n",
    "   11x + 3y  & \\ge 21 \\\\\n",
    "   6x + 20y  & \\ge 39 \\\\\n",
    "   x \\ge 0 ,& y \\ge 0 \\\\\n",
    "   x, y \\in \\mathbb{Z}\n",
    "   \\end{aligned}\n",
    "$$"
   ]
  },
  {
   "cell_type": "markdown",
   "metadata": {},
   "source": [
    "The following should be the first line of any of your python + gurobi programs. This is to ensure that the program can access the gurobi functions and classes."
   ]
  },
  {
   "cell_type": "code",
   "execution_count": 1,
   "metadata": {
    "collapsed": true
   },
   "outputs": [],
   "source": [
    "from gurobipy import *"
   ]
  },
  {
   "cell_type": "markdown",
   "metadata": {},
   "source": [
    "Next we create a new gurobi model and name it lp. Note that you can change the name of the model ls as well as name of the gurobi object which in this case is m."
   ]
  },
  {
   "cell_type": "code",
   "execution_count": 2,
   "metadata": {
    "collapsed": true
   },
   "outputs": [],
   "source": [
    "# Create a new Gurobi Model\n",
    "m = Model(\"mip\")  "
   ]
  },
  {
   "cell_type": "markdown",
   "metadata": {},
   "source": [
    "Next we create two positive variables $x$ and $y$ and add it to the model."
   ]
  },
  {
   "cell_type": "code",
   "execution_count": 3,
   "metadata": {
    "collapsed": true
   },
   "outputs": [],
   "source": [
    "# Create two new variables\n",
    "x = m.addVar(lb=0, vtype=GRB.INTEGER, name =\"x\")\n",
    "y = m.addVar(lb=0, vtype=GRB.INTEGER, name =\"y\")"
   ]
  },
  {
   "cell_type": "markdown",
   "metadata": {},
   "source": [
    "We then add the objective function to the model. The objective function in this case is minimize. If you wanted to maximize, you would set the objective function parameter to GRB.MAXIMIZE."
   ]
  },
  {
   "cell_type": "code",
   "execution_count": 4,
   "metadata": {
    "collapsed": true
   },
   "outputs": [],
   "source": [
    "# Set the objective function\n",
    "m.setObjective(10*x + 26*y, GRB.MINIMIZE)"
   ]
  },
  {
   "cell_type": "markdown",
   "metadata": {},
   "source": [
    "We then add two constraints named c0 and c1. The earlier versions of gurobi have a m.update() command which is not needed in version 7."
   ]
  },
  {
   "cell_type": "code",
   "execution_count": 5,
   "metadata": {
    "collapsed": false
   },
   "outputs": [
    {
     "data": {
      "text/plain": [
       "<gurobi.Constr *Awaiting Model Update*>"
      ]
     },
     "execution_count": 5,
     "metadata": {},
     "output_type": "execute_result"
    }
   ],
   "source": [
    "#Add Constraints\n",
    "m.addConstr(11*x + 3*y >= 21, \"c0\")\n",
    "m.addConstr(6*x + 20*y >= 39, \"c1\")"
   ]
  },
  {
   "cell_type": "markdown",
   "metadata": {},
   "source": [
    "Next we solve the model."
   ]
  },
  {
   "cell_type": "code",
   "execution_count": 6,
   "metadata": {
    "collapsed": false
   },
   "outputs": [
    {
     "name": "stdout",
     "output_type": "stream",
     "text": [
      "Optimize a model with 2 rows, 2 columns and 4 nonzeros\n",
      "Variable types: 0 continuous, 2 integer (0 binary)\n",
      "Coefficient statistics:\n",
      "  Matrix range     [3e+00, 2e+01]\n",
      "  Objective range  [1e+01, 3e+01]\n",
      "  Bounds range     [0e+00, 0e+00]\n",
      "  RHS range        [2e+01, 4e+01]\n",
      "Found heuristic solution: objective 182\n",
      "Presolve time: 0.01s\n",
      "Presolved: 2 rows, 2 columns, 4 nonzeros\n",
      "Variable types: 0 continuous, 2 integer (0 binary)\n",
      "\n",
      "Root relaxation: objective 5.526733e+01, 2 iterations, 0.00 seconds\n",
      "\n",
      "    Nodes    |    Current Node    |     Objective Bounds      |     Work\n",
      " Expl Unexpl |  Obj  Depth IntInf | Incumbent    BestBd   Gap | It/Node Time\n",
      "\n",
      "     0     0   55.26733    0    2  182.00000   55.26733  69.6%     -    0s\n",
      "H    0     0                      66.0000000   55.26733  16.3%     -    0s\n",
      "     0     0     cutoff    0        66.00000   64.00007  3.03%     -    0s\n",
      "\n",
      "Cutting planes:\n",
      "  MIR: 1\n",
      "\n",
      "Explored 0 nodes (3 simplex iterations) in 0.21 seconds\n",
      "Thread count was 4 (of 4 available processors)\n",
      "\n",
      "Solution count 2: 66 182 \n",
      "Pool objective bound 66\n",
      "\n",
      "Optimal solution found (tolerance 1.00e-04)\n",
      "Best objective 6.600000000000e+01, best bound 6.600000000000e+01, gap 0.0000%\n"
     ]
    }
   ],
   "source": [
    "# Solve the model\n",
    "m.optimize()"
   ]
  },
  {
   "cell_type": "markdown",
   "metadata": {},
   "source": [
    "If the model was solved to optimality, we print the objective function and optimal solution. We show two ways to access the optimal solution below."
   ]
  },
  {
   "cell_type": "code",
   "execution_count": 7,
   "metadata": {
    "collapsed": false
   },
   "outputs": [
    {
     "name": "stdout",
     "output_type": "stream",
     "text": [
      "Obj Function: 66.0\n",
      "x 4.0\n",
      "y 1.0\n",
      "Optimal Solution:\n",
      "x 4.0\n",
      "y 1.0\n"
     ]
    }
   ],
   "source": [
    "if m.status == GRB.Status.OPTIMAL:\n",
    "    print('Obj Function:', m.objVal)\n",
    "    for v in m.getVars():\n",
    "        print(v.varName, v.x)\n",
    "# Another way to print the variable\n",
    "    print(\"Optimal Solution:\")\n",
    "    print(x.varName, x.x)\n",
    "    print(y.varName, y.x)        \n",
    "else:\n",
    "    print(m.status)"
   ]
  },
  {
   "cell_type": "code",
   "execution_count": null,
   "metadata": {
    "collapsed": true
   },
   "outputs": [],
   "source": []
  }
 ],
 "metadata": {
  "anaconda-cloud": {},
  "kernelspec": {
   "display_name": "Python [conda root]",
   "language": "python",
   "name": "conda-root-py"
  },
  "language_info": {
   "codemirror_mode": {
    "name": "ipython",
    "version": 3
   },
   "file_extension": ".py",
   "mimetype": "text/x-python",
   "name": "python",
   "nbconvert_exporter": "python",
   "pygments_lexer": "ipython3",
   "version": "3.5.2"
  }
 },
 "nbformat": 4,
 "nbformat_minor": 1
}
